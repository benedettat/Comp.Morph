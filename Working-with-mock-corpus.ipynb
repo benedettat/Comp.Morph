{
 "cells": [
  {
   "cell_type": "code",
   "execution_count": 17,
   "metadata": {
    "collapsed": true
   },
   "outputs": [],
   "source": [
    "import nltk\n",
    "from nltk.probability import FreqDist\n",
    "from nltk import word_tokenize\n",
    "import math\n",
    "import random"
   ]
  },
  {
   "cell_type": "code",
   "execution_count": 7,
   "metadata": {
    "collapsed": false
   },
   "outputs": [
    {
     "name": "stdout",
     "output_type": "stream",
     "text": [
      "4.0\n"
     ]
    },
    {
     "data": {
      "text/plain": [
       "3.0"
      ]
     },
     "execution_count": 7,
     "metadata": {},
     "output_type": "execute_result"
    }
   ],
   "source": [
    "print(math.log(16,2))\n",
    "math.sqrt(9)"
   ]
  },
  {
   "cell_type": "code",
   "execution_count": 8,
   "metadata": {
    "collapsed": true
   },
   "outputs": [],
   "source": [
    "def InsertionSort(A):\n",
    "    for j in range(1, len(A)):\n",
    "        key = A[j]\n",
    "        i = j - 1\n",
    "        while (i >=0) and (A[i] > key):\n",
    "            A[i+1] = A[i]\n",
    "            i = i - 1\n",
    "        A[i+1] = key"
   ]
  },
  {
   "cell_type": "code",
   "execution_count": 9,
   "metadata": {
    "collapsed": true
   },
   "outputs": [],
   "source": [
    "array = [1,3,5,6,77,84,5,6]"
   ]
  },
  {
   "cell_type": "code",
   "execution_count": 11,
   "metadata": {
    "collapsed": false
   },
   "outputs": [
    {
     "data": {
      "text/plain": [
       "[1, 3, 5, 5, 6, 6, 77, 84]"
      ]
     },
     "execution_count": 11,
     "metadata": {},
     "output_type": "execute_result"
    }
   ],
   "source": [
    "InsertionSort(array)\n",
    "array"
   ]
  },
  {
   "cell_type": "code",
   "execution_count": 14,
   "metadata": {
    "collapsed": false
   },
   "outputs": [
    {
     "data": {
      "text/plain": [
       "0.4248910475126818"
      ]
     },
     "execution_count": 14,
     "metadata": {},
     "output_type": "execute_result"
    }
   ],
   "source": [
    "random.random()"
   ]
  },
  {
   "cell_type": "code",
   "execution_count": 40,
   "metadata": {
    "collapsed": false
   },
   "outputs": [
    {
     "data": {
      "text/plain": [
       "1"
      ]
     },
     "execution_count": 40,
     "metadata": {},
     "output_type": "execute_result"
    }
   ],
   "source": [
    "input_file = \"/Users/benedettatorsi/Documents/Comp.Morph/dorian.txt\"\n",
    "#calculate frequency of a word in the text (http://stackoverflow.com/questions/8139239/how-to-count-words-in-a-corpus-document)\n",
    "freq_dist = FreqDist()\n",
    "with open(\"/Users/benedettatorsi/Documents/Comp.Morph/dorian.txt\", 'r') as file_in:\n",
    "    for word in word_tokenize(file_in.read()):\n",
    "        #print(word)\n",
    "        freq_dist.update([word])\n",
    "\n",
    "freq_dist[\"closing\"]"
   ]
  },
  {
   "cell_type": "code",
   "execution_count": 63,
   "metadata": {
    "collapsed": false
   },
   "outputs": [
    {
     "name": "stdout",
     "output_type": "stream",
     "text": [
      "['ther', 'eI']\n"
     ]
    }
   ],
   "source": [
    "#split the word at a random point\n",
    "string = \"thereI\"\n",
    "splitted = []\n",
    "\n",
    "prev = 0\n",
    "while True:\n",
    "    n = random.randint(1,10)\n",
    "    splitted.append(string[prev:prev+n])\n",
    "    prev = prev + n\n",
    "    if prev >= len(string)-1:\n",
    "        break\n",
    "print(splitted)\n",
    "i = len(splitted[0])"
   ]
  },
  {
   "cell_type": "code",
   "execution_count": 64,
   "metadata": {
    "collapsed": false
   },
   "outputs": [
    {
     "name": "stdout",
     "output_type": "stream",
     "text": [
      "4\n"
     ]
    }
   ],
   "source": [
    "#obtaining i\n",
    "i = len(splitted[0])\n",
    "print(i)"
   ]
  },
  {
   "cell_type": "code",
   "execution_count": 65,
   "metadata": {
    "collapsed": false
   },
   "outputs": [],
   "source": [
    "#obtaining the log of the frequency of the stem (mock)\n",
    "log_stem = math.log(freq_dist[\"there\"])"
   ]
  },
  {
   "cell_type": "code",
   "execution_count": 66,
   "metadata": {
    "collapsed": false
   },
   "outputs": [],
   "source": [
    "#obtaining the log of the frequency of the suffix (mock)\n",
    "log_suffix = math.log(freq_dist[\"I\"])"
   ]
  },
  {
   "cell_type": "code",
   "execution_count": 70,
   "metadata": {
    "collapsed": false
   },
   "outputs": [
    {
     "name": "stdout",
     "output_type": "stream",
     "text": [
      "-4.017401406779555\n"
     ]
    }
   ],
   "source": [
    "#computing H(w1,i + wi+1,l) = -(i log freq (stem = w1,i) + (l - i) log freq (suffix = wi+1,l))\n",
    "stem_log_freq = math.pow(log_stem, i)\n",
    "suffix_log_freq = math.pow(log_suffix, (len(string)-i))\n",
    "H = -(stem_log_freq + suffix_log_freq)\n",
    "print(H)"
   ]
  },
  {
   "cell_type": "code",
   "execution_count": null,
   "metadata": {
    "collapsed": true
   },
   "outputs": [],
   "source": []
  }
 ],
 "metadata": {
  "anaconda-cloud": {},
  "kernelspec": {
   "display_name": "Python [conda root]",
   "language": "python",
   "name": "conda-root-py"
  },
  "language_info": {
   "codemirror_mode": {
    "name": "ipython",
    "version": 3
   },
   "file_extension": ".py",
   "mimetype": "text/x-python",
   "name": "python",
   "nbconvert_exporter": "python",
   "pygments_lexer": "ipython3",
   "version": "3.5.2"
  }
 },
 "nbformat": 4,
 "nbformat_minor": 1
}
